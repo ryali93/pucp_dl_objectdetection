{
  "nbformat": 4,
  "nbformat_minor": 0,
  "metadata": {
    "colab": {
      "name": "own_preprocessing.ipynb",
      "provenance": [],
      "collapsed_sections": [],
      "mount_file_id": "1wb1IB3FLBSFZbtWSM6fcN2lC9zrve0WO",
      "authorship_tag": "ABX9TyO0J41Xtf7HqMOLWC5I5mE5",
      "include_colab_link": true
    },
    "kernelspec": {
      "name": "python3",
      "display_name": "Python 3"
    }
  },
  "cells": [
    {
      "cell_type": "markdown",
      "metadata": {
        "id": "view-in-github",
        "colab_type": "text"
      },
      "source": [
        "<a href=\"https://colab.research.google.com/github/ryali93/pucp_dl_objectdetection/blob/master/own_preprocessing.ipynb\" target=\"_parent\"><img src=\"https://colab.research.google.com/assets/colab-badge.svg\" alt=\"Open In Colab\"/></a>"
      ]
    },
    {
      "cell_type": "markdown",
      "metadata": {
        "id": "BTbPSXhMjvj2"
      },
      "source": [
        "## Configurar GPU\r\n",
        "\r\n",
        "Para poder realizar una aplicación más intensiva, se ha considerado habilitar la memoria gráfica GPU del servicio prestado por COLAB."
      ]
    },
    {
      "cell_type": "code",
      "metadata": {
        "id": "tPb44US5jwvw",
        "colab": {
          "base_uri": "https://localhost:8080/"
        },
        "outputId": "c014fda3-eb7d-4ce8-fa8a-afa587a9375a"
      },
      "source": [
        "!nvidia-smi"
      ],
      "execution_count": 1,
      "outputs": [
        {
          "output_type": "stream",
          "text": [
            "NVIDIA-SMI has failed because it couldn't communicate with the NVIDIA driver. Make sure that the latest NVIDIA driver is installed and running.\n",
            "\n"
          ],
          "name": "stdout"
        }
      ]
    },
    {
      "cell_type": "markdown",
      "metadata": {
        "id": "07MWZAYsj3Pg"
      },
      "source": [
        "- Menu > Runtime > Change runtime."
      ]
    },
    {
      "cell_type": "code",
      "metadata": {
        "id": "ldM1HU51jz6I",
        "colab": {
          "base_uri": "https://localhost:8080/",
          "height": 35
        },
        "outputId": "05989441-8bbf-4a30-c851-a9ce3a939460"
      },
      "source": [
        "import tensorflow as tf\r\n",
        "tf.test.gpu_device_name()"
      ],
      "execution_count": 2,
      "outputs": [
        {
          "output_type": "execute_result",
          "data": {
            "application/vnd.google.colaboratory.intrinsic+json": {
              "type": "string"
            },
            "text/plain": [
              "''"
            ]
          },
          "metadata": {
            "tags": []
          },
          "execution_count": 2
        }
      ]
    },
    {
      "cell_type": "markdown",
      "metadata": {
        "id": "8zI97Pstj5dy"
      },
      "source": [
        "## Espacio de trabajo"
      ]
    },
    {
      "cell_type": "markdown",
      "metadata": {
        "id": "sQofSKbaVoTb"
      },
      "source": [
        "Se ha configurado el ambiente de trabajo sincronizando la cuenta de Google Drive."
      ]
    },
    {
      "cell_type": "code",
      "metadata": {
        "id": "4ryGmsYLj8EA"
      },
      "source": [
        "!sudo apt-get install tree"
      ],
      "execution_count": null,
      "outputs": []
    },
    {
      "cell_type": "code",
      "metadata": {
        "id": "0TpaHCPvj9JK",
        "colab": {
          "base_uri": "https://localhost:8080/"
        },
        "outputId": "1f8838d0-4873-47c5-8dd3-2cb70ef7b551"
      },
      "source": [
        "%cd drive/MyDrive/ciclo_02/deep_learning/own_object_detection/"
      ],
      "execution_count": 7,
      "outputs": [
        {
          "output_type": "stream",
          "text": [
            "/content/drive/MyDrive/ciclo_02/deep_learning/own_object_detection\n"
          ],
          "name": "stdout"
        }
      ]
    },
    {
      "cell_type": "markdown",
      "metadata": {
        "id": "xUYviHc3j-sa"
      },
      "source": [
        "## Funciones\r\n",
        "1. Para transformar el label de formato YOLO a XML pascal"
      ]
    },
    {
      "cell_type": "code",
      "metadata": {
        "id": "kHLg6z44jMsj"
      },
      "source": [
        "# Elementos de configuración de la data e imagenes empleadas\r\n",
        "from lxml import etree\r\n",
        "from PIL import Image\r\n",
        "import csv\r\n",
        "import os\r\n",
        "\r\n",
        "IMG_PATH = \"images\"\r\n",
        "fw = os.listdir(IMG_PATH)\r\n",
        "\r\n",
        "txt_folder = 'labels_yolo'\r\n",
        "\r\n",
        "labels = ['sluice','float','dredge','shack/rooftop']\r\n",
        "\r\n",
        "label = ''"
      ],
      "execution_count": null,
      "outputs": []
    },
    {
      "cell_type": "code",
      "metadata": {
        "id": "hjm9Um2bjUwC"
      },
      "source": [
        "def csvread(fn):\r\n",
        "    '''Función para leer el archivo csv'''\r\n",
        "    with open(fn, 'r') as csvfile:\r\n",
        "        list_arr = []\r\n",
        "        reader = csv.reader(csvfile, delimiter=' ')\r\n",
        "        for row in reader:\r\n",
        "            list_arr.append(row)\r\n",
        "    return list_arr"
      ],
      "execution_count": null,
      "outputs": []
    },
    {
      "cell_type": "code",
      "metadata": {
        "id": "0Rdts1vwjWhg"
      },
      "source": [
        "def convert_label(txt_file):\r\n",
        "    global label\r\n",
        "    for i in range(len(labels)):\r\n",
        "        if txt_file[0] == str(i):\r\n",
        "            label = labels[i]\r\n",
        "            return label\r\n",
        "\r\n",
        "    return label"
      ],
      "execution_count": null,
      "outputs": []
    },
    {
      "cell_type": "code",
      "metadata": {
        "id": "WVTXO2qIjYGq"
      },
      "source": [
        "def extract_coor(txt_file, img_width, img_height):\r\n",
        "    '''Extracción de las coordenadas mínimas y máximas de cada imagen en \r\n",
        "    base a sus metadatos'''\r\n",
        "    x_rect_mid = float(txt_file[1])\r\n",
        "    y_rect_mid = float(txt_file[2])\r\n",
        "    width_rect = float(txt_file[3])\r\n",
        "    height_rect = float(txt_file[4])\r\n",
        "\r\n",
        "    x_min_rect = ((2 * x_rect_mid * img_width) - (width_rect * img_width)) / 2\r\n",
        "    x_max_rect = ((2 * x_rect_mid * img_width) + (width_rect * img_width)) / 2\r\n",
        "    y_min_rect = ((2 * y_rect_mid * img_height) -\r\n",
        "                  (height_rect * img_height)) / 2\r\n",
        "    y_max_rect = ((2 * y_rect_mid * img_height) +\r\n",
        "                  (height_rect * img_height)) / 2\r\n",
        "\r\n",
        "    return x_min_rect, x_max_rect, y_min_rect, y_max_rect"
      ],
      "execution_count": null,
      "outputs": []
    },
    {
      "cell_type": "code",
      "metadata": {
        "id": "o_0Onfq3jZ_i"
      },
      "source": [
        "for line in fw:\r\n",
        "    root = etree.Element(\"annotation\")\r\n",
        "\r\n",
        "    # Verificar la ruta de las imagenes\r\n",
        "    img_style = IMG_PATH.split('/')[-1]\r\n",
        "    img_name = line\r\n",
        "    image_info = IMG_PATH + \"/\" + line\r\n",
        "    img_txt_root = txt_folder + \"/\" + line[:-4]\r\n",
        "    # print(img_txt_root)\r\n",
        "    txt = \".txt\"\r\n",
        "\r\n",
        "    txt_path = img_txt_root + txt\r\n",
        "    # print(txt_path)\r\n",
        "    txt_file = csvread(txt_path)\r\n",
        "    ######################################\r\n",
        "\r\n",
        "    # Leyendo la información de la imagen\r\n",
        "    img_size = Image.open(image_info).size\r\n",
        "\r\n",
        "    img_width = img_size[0]\r\n",
        "    img_height = img_size[1]\r\n",
        "    img_depth = Image.open(image_info).layers\r\n",
        "    ######################################\r\n",
        "\r\n",
        "    folder = etree.Element(\"folder\")\r\n",
        "    folder.text = \"%s\" % (img_style)\r\n",
        "\r\n",
        "    filename = etree.Element(\"filename\")\r\n",
        "    filename.text = \"%s\" % (img_name)\r\n",
        "\r\n",
        "    path = etree.Element(\"path\")\r\n",
        "    path.text = \"%s\" % (IMG_PATH)\r\n",
        "\r\n",
        "    source = etree.Element(\"source\")\r\n",
        "    ################## Fuente de cada elemento ##################\r\n",
        "    source_database = etree.SubElement(source, \"database\")\r\n",
        "    source_database.text = \"Unknown\"\r\n",
        "    ####################################################\r\n",
        "\r\n",
        "    size = etree.Element(\"size\")\r\n",
        "    #################### Tamaño de cada elemento ##################\r\n",
        "    image_width = etree.SubElement(size, \"width\")\r\n",
        "    image_width.text = \"%d\" % (img_width)\r\n",
        "\r\n",
        "    image_height = etree.SubElement(size, \"height\")\r\n",
        "    image_height.text = \"%d\" % (img_height)\r\n",
        "\r\n",
        "    image_depth = etree.SubElement(size, \"depth\")\r\n",
        "    image_depth.text = \"%d\" % (img_depth)\r\n",
        "    ####################################################\r\n",
        "\r\n",
        "    segmented = etree.Element(\"segmented\")\r\n",
        "    segmented.text = \"0\"\r\n",
        "\r\n",
        "    root.append(folder)\r\n",
        "    root.append(filename)\r\n",
        "    root.append(path)\r\n",
        "    root.append(source)\r\n",
        "    root.append(size)\r\n",
        "    root.append(segmented)\r\n",
        "\r\n",
        "    for ii in range(len(txt_file)):\r\n",
        "        label = convert_label(txt_file[ii][0])\r\n",
        "        x_min_rect, x_max_rect, y_min_rect, y_max_rect = extract_coor(\r\n",
        "            txt_file[ii], img_width, img_height)\r\n",
        "\r\n",
        "        object = etree.Element(\"object\")\r\n",
        "        #################### Objeto específico de cada elemento ##################\r\n",
        "        name = etree.SubElement(object, \"name\")\r\n",
        "        name.text = \"%s\" % (label)\r\n",
        "\r\n",
        "        pose = etree.SubElement(object, \"pose\")\r\n",
        "        pose.text = \"Unspecified\"\r\n",
        "\r\n",
        "        truncated = etree.SubElement(object, \"truncated\")\r\n",
        "        truncated.text = \"0\"\r\n",
        "\r\n",
        "        difficult = etree.SubElement(object, \"difficult\")\r\n",
        "        difficult.text = \"0\"\r\n",
        "\r\n",
        "        bndbox = etree.SubElement(object, \"bndbox\")\r\n",
        "        ##### Creando las coordenadas para cada elemento ########\r\n",
        "        xmin = etree.SubElement(bndbox, \"xmin\")\r\n",
        "        xmin.text = \"%d\" % (x_min_rect)\r\n",
        "        ymin = etree.SubElement(bndbox, \"ymin\")\r\n",
        "        ymin.text = \"%d\" % (y_min_rect)\r\n",
        "        xmax = etree.SubElement(bndbox, \"xmax\")\r\n",
        "        xmax.text = \"%d\" % (x_max_rect)\r\n",
        "        ymax = etree.SubElement(bndbox, \"ymax\")\r\n",
        "        ymax.text = \"%d\" % (y_max_rect)\r\n",
        "        ##### Creando las coordenadas para cada elemento ########\r\n",
        "\r\n",
        "        root.append(object)\r\n",
        "        ####################################################\r\n",
        "\r\n",
        "    file_output = etree.tostring(root, pretty_print=True, encoding='UTF-8')\r\n",
        "    # print(file_output.decode('utf-8'))\r\n",
        "    ff = open('labels_xml/%s.xml' % (img_name[:-4]), 'w', encoding=\"utf-8\")\r\n",
        "    ff.write(file_output.decode('utf-8'))"
      ],
      "execution_count": null,
      "outputs": []
    },
    {
      "cell_type": "markdown",
      "metadata": {
        "id": "3ZUMcuxdkRgC"
      },
      "source": [
        "2. Creando archivo Paths.csv\r\n",
        "Que permitirá acceder a los datos de las imágenes"
      ]
    },
    {
      "cell_type": "code",
      "metadata": {
        "id": "sG7AuEA3kfKy"
      },
      "source": [
        "## Cargando algunas librerías\r\n",
        "import os\r\n",
        "import glob\r\n",
        "import pandas as pd\r\n",
        "import xml.etree.ElementTree as ET"
      ],
      "execution_count": null,
      "outputs": []
    },
    {
      "cell_type": "code",
      "metadata": {
        "id": "Tk58WHzKkbY5"
      },
      "source": [
        "def xml_to_csv(path):\r\n",
        "    '''Función que permite exportar los metadatos en formato XML a un \r\n",
        "    sólo archivo csv'''\r\n",
        "    xml_list = []\r\n",
        "    for xml_file in glob.glob(path + '/*.xml'):\r\n",
        "        tree = ET.parse(xml_file)\r\n",
        "        root = tree.getroot()\r\n",
        "        for member in root.findall('object'):\r\n",
        "            bbx = member.find('bndbox')\r\n",
        "            xmin = int(bbx.find('xmin').text)\r\n",
        "            ymin = int(bbx.find('ymin').text)\r\n",
        "            xmax = int(bbx.find('xmax').text)\r\n",
        "            ymax = int(bbx.find('ymax').text)\r\n",
        "            label = member.find('name').text\r\n",
        "\r\n",
        "            value = (root.find('filename').text,\r\n",
        "                     int(root.find('size')[0].text),\r\n",
        "                     int(root.find('size')[1].text),\r\n",
        "                     label,\r\n",
        "                     xmin,\r\n",
        "                     ymin,\r\n",
        "                     xmax,\r\n",
        "                     ymax,\r\n",
        "                     xml_file\r\n",
        "                     )\r\n",
        "            xml_list.append(value)\r\n",
        "    column_name = ['filename', 'width', 'height',\r\n",
        "                   'class', 'xmin', 'ymin', 'xmax', 'ymax', 'xml']\r\n",
        "    xml_df = pd.DataFrame(xml_list, columns=column_name)\r\n",
        "    return xml_df"
      ],
      "execution_count": null,
      "outputs": []
    },
    {
      "cell_type": "code",
      "metadata": {
        "id": "51BxcON4khlP"
      },
      "source": [
        "xml_df = xml_to_csv(\"labels_xml\")\r\n",
        "xml_df.to_csv('paths.csv', index=None)"
      ],
      "execution_count": null,
      "outputs": []
    }
  ]
}